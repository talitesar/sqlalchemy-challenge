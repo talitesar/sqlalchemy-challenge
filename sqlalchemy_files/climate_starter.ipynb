{
 "cells": [
  {
   "cell_type": "code",
   "execution_count": 127,
   "metadata": {},
   "outputs": [],
   "source": [
    "%matplotlib inline\n",
    "from matplotlib import style\n",
    "style.use('fivethirtyeight')\n",
    "import matplotlib.pyplot as plt"
   ]
  },
  {
   "cell_type": "code",
   "execution_count": 128,
   "metadata": {},
   "outputs": [],
   "source": [
    "import numpy as np\n",
    "import pandas as pd\n",
    "import datetime as dt"
   ]
  },
  {
   "cell_type": "markdown",
   "metadata": {},
   "source": [
    "# Reflect Tables into SQLAlchemy ORM"
   ]
  },
  {
   "cell_type": "code",
   "execution_count": 129,
   "metadata": {},
   "outputs": [],
   "source": [
    "# Python SQL toolkit and Object Relational Mapper\n",
    "import sqlalchemy\n",
    "from sqlalchemy.ext.automap import automap_base\n",
    "from sqlalchemy.orm import Session\n",
    "from sqlalchemy import create_engine, func, inspect, desc"
   ]
  },
  {
   "cell_type": "code",
   "execution_count": 130,
   "metadata": {},
   "outputs": [],
   "source": [
    "# create engine to hawaii.sqlite\n",
    "engine = create_engine(\"sqlite:///../Resources/hawaii.sqlite\")"
   ]
  },
  {
   "cell_type": "code",
   "execution_count": 131,
   "metadata": {},
   "outputs": [],
   "source": [
    "# Reflect an existing database into a new model:\n",
    "    # Declare a base\n",
    "Base = automap_base()\n",
    "    # Use base to reflect database\n",
    "# reflect the tables\n",
    "Base.prepare(autoload_with=engine)\n"
   ]
  },
  {
   "cell_type": "code",
   "execution_count": 132,
   "metadata": {},
   "outputs": [
    {
     "data": {
      "text/plain": [
       "['measurement', 'station']"
      ]
     },
     "execution_count": 132,
     "metadata": {},
     "output_type": "execute_result"
    }
   ],
   "source": [
    "# View all of the classes that automap found\n",
    "Base.classes.keys()"
   ]
  },
  {
   "cell_type": "code",
   "execution_count": 133,
   "metadata": {},
   "outputs": [],
   "source": [
    "# Save references to each table\n",
    "measurement = Base.classes.measurement\n",
    "station = Base.classes.station"
   ]
  },
  {
   "cell_type": "code",
   "execution_count": 134,
   "metadata": {},
   "outputs": [],
   "source": [
    "# Create our session (link) from Python to the DB\n",
    "session=Session(engine)"
   ]
  },
  {
   "cell_type": "markdown",
   "metadata": {},
   "source": [
    "# Exploratory Precipitation Analysis"
   ]
  },
  {
   "cell_type": "code",
   "execution_count": 135,
   "metadata": {},
   "outputs": [
    {
     "name": "stdout",
     "output_type": "stream",
     "text": [
      "('2017-08-23',)\n"
     ]
    }
   ],
   "source": [
    "# Find the most recent date in the data set.\n",
    "    # Use session.query, sort by date in descending order so that the greatest number (most recent) is first, and select the first value.\n",
    "most_recent_date = session.query(measurement.date).order_by(measurement.date.desc()).first()\n",
    "# Print this results\n",
    "print(most_recent_date)"
   ]
  },
  {
   "cell_type": "code",
   "execution_count": 156,
   "metadata": {},
   "outputs": [
    {
     "data": {
      "text/plain": [
       "Text(0, 0.5, 'Precipitation (Inches)')"
      ]
     },
     "execution_count": 156,
     "metadata": {},
     "output_type": "execute_result"
    },
    {
     "data": {
      "image/png": "[encoded data removed]",
      "text/plain": [
       "<Figure size 640x480 with 1 Axes>"
      ]
     },
     "metadata": {},
     "output_type": "display_data"
    }
   ],
   "source": [
    "# Design a query to retrieve the last 12 months of precipitation data and plot the results. \n",
    "# Starting from the most recent data point in the database. \n",
    "    # As above, most recent is 2017-08-23.\n",
    "# Calculate the date one year from the last date in data set.\n",
    "    # One year before this would be 2016-08-23.\n",
    "    # Set this date equal to a query date variable to be used in filtering.\n",
    "date = dt.date(2016, 8, 23)\n",
    "\n",
    "# Perform a query to retrieve the date and precipitation scores\n",
    "prcp = session.query(measurement.date, measurement.prcp).filter(measurement.date >= date).all()\n",
    "\n",
    "# Use a dictionary comprehesion to convert these results into a dictionary\n",
    "prcp_rows = [{'Date': row[0], \"Precipitation Score\": row[1]} for row in prcp]\n",
    "\n",
    "# Save the query results as a Pandas DataFrame and set the index to the date column\n",
    "prcp_df = pd.DataFrame(prcp_rows).set_index('Date')\n",
    "\n",
    "# Sort the dataframe by date\n",
    "prcp_df_sorted = prcp_df.sort_values(by=['Date'],ascending=True)\n",
    "\n",
    "    # Add xticks\n",
    "bins = [dt.date(2016,8,23),dt.date(2016,9,23),dt.date(2016,10,23),dt.date(2016,11,23),dt.date(2016,12,23),dt.date(2017,1,23),dt.date(2017,2,23),dt.date(2017,3,23),\\\n",
    "            dt.date(2017,3,23),dt.date(2017,4,23),dt.date(2017,5,23),dt.date(2017,6,23),dt.date(2017,7,23),dt.date(2017,8,23)]\n",
    "\n",
    "# Use Pandas Plotting with Matplotlib to plot the data\n",
    "prcp_df_sorted.plot.bar(use_index=False)\n",
    "plt.xlabel(\"Date\")\n",
    "plt.ylabel(\"Precipitation (Inches)\")\n"
   ]
  },
  {
   "cell_type": "code",
   "execution_count": 152,
   "metadata": {},
   "outputs": [
    {
     "name": "stdout",
     "output_type": "stream",
     "text": [
      "[datetime.date(2016, 8, 23), datetime.date(2016, 9, 23), datetime.date(2016, 10, 23), datetime.date(2016, 11, 23), datetime.date(2016, 12, 23), datetime.date(2017, 1, 23), datetime.date(2017, 2, 23), datetime.date(2017, 3, 23), datetime.date(2017, 3, 23), datetime.date(2017, 4, 23), datetime.date(2017, 5, 23), datetime.date(2017, 6, 23), datetime.date(2017, 7, 23), datetime.date(2017, 8, 23)]\n"
     ]
    }
   ],
   "source": [
    "print(bins)"
   ]
  },
  {
   "cell_type": "code",
   "execution_count": 137,
   "metadata": {},
   "outputs": [
    {
     "name": "stdout",
     "output_type": "stream",
     "text": [
      "The maximum precipitation was 6.7\n",
      "The maximum precipitation was 0.0\n",
      "The mean precipitation was 0.17727857496288996\n"
     ]
    }
   ],
   "source": [
    "# Use Pandas to calculate the summary statistics for the precipitation data\n",
    "min = prcp_df[\"Precipitation Score\"].min()\n",
    "max = prcp_df[\"Precipitation Score\"].max()\n",
    "mean = prcp_df[\"Precipitation Score\"].mean()\n",
    "print(f'The maximum precipitation was {max}')\n",
    "print(f'The maximum precipitation was {min}')\n",
    "print(f'The mean precipitation was {mean}')"
   ]
  },
  {
   "cell_type": "markdown",
   "metadata": {},
   "source": [
    "# Exploratory Station Analysis"
   ]
  },
  {
   "cell_type": "code",
   "execution_count": 138,
   "metadata": {},
   "outputs": [
    {
     "name": "stdout",
     "output_type": "stream",
     "text": [
      " There are 9 different stations\n"
     ]
    }
   ],
   "source": [
    "# Design a query to calculate the total number stations in the dataset\n",
    "    # Use session.query and the distinct function\n",
    "station_num = session.query(measurement.station).distinct().count()\n",
    "# Print the results\n",
    "print(f' There are {station_num} different stations')"
   ]
  },
  {
   "cell_type": "code",
   "execution_count": 139,
   "metadata": {},
   "outputs": [
    {
     "name": "stdout",
     "output_type": "stream",
     "text": [
      "[('USC00519281', 2772), ('USC00519397', 2724), ('USC00513117', 2709), ('USC00519523', 2669), ('USC00516128', 2612), ('USC00514830', 2202), ('USC00511918', 1979), ('USC00517948', 1372), ('USC00518838', 511)]\n",
      "USC00519281\n"
     ]
    }
   ],
   "source": [
    "# Design a query to find the most active stations (i.e. what stations have the most rows?)\n",
    "# List the stations and the counts in descending order.\n",
    "station_counts = session.query(measurement.station,func.count(measurement.station)).group_by(measurement.station).order_by(desc(func.count(measurement.station))).all()\n",
    "print(station_counts)\n",
    "# Find the most active station\n",
    "active_station = session.query(measurement.station,func.count(measurement.station)).group_by(measurement.station).order_by(desc(func.count(measurement.station))).first()\n",
    "# Isolate the station \n",
    "most_active_station = active_station[0]\n",
    "print(most_active_station)"
   ]
  },
  {
   "cell_type": "code",
   "execution_count": 140,
   "metadata": {},
   "outputs": [
    {
     "name": "stdout",
     "output_type": "stream",
     "text": [
      "The minimum temperate at the most active station was 54.0\n",
      "The maximum temperate at the most active station was 85.0\n",
      "The mean temperate at the most active station was 71.66378066378067\n"
     ]
    }
   ],
   "source": [
    "# Using the most active station id from the previous query, calculate the lowest, highest, and average temperature.\n",
    "    # Set up a selection variable using the func command to make query cleaner\n",
    "select_min = [measurement.tobs, func.min(measurement.tobs)]\n",
    "select_max = [measurement.tobs, func.max(measurement.tobs)]\n",
    "select_mean = [measurement.tobs, func.avg(measurement.tobs)]\n",
    "    # Use select and filter for active station\n",
    "active_min = session.query(*select_min).filter(measurement.station == most_active_station).first()\n",
    "active_max = session.query(*select_max).filter(measurement.station == most_active_station).first()\n",
    "active_mean = session.query(*select_mean).filter(measurement.station == most_active_station).first()\n",
    "\n",
    "    # Clean up the summary values\n",
    "active_min1 = active_min[1]\n",
    "active_max1 = active_max[1]\n",
    "active_mean1 = active_mean[1]\n",
    "\n",
    "    # Print the summaries\n",
    "print(f'The minimum temperate at the most active station was {active_min1}')\n",
    "print(f'The maximum temperate at the most active station was {active_max1}')\n",
    "print(f'The mean temperate at the most active station was {active_mean1}')"
   ]
  },
  {
   "cell_type": "code",
   "execution_count": 141,
   "metadata": {},
   "outputs": [
    {
     "data": {
      "text/plain": [
       "<AxesSubplot:ylabel='Frequency'>"
      ]
     },
     "execution_count": 141,
     "metadata": {},
     "output_type": "execute_result"
    },
    {
     "data": {
      "image/png": "[encoded data removed]",
      "text/plain": [
       "<Figure size 640x480 with 1 Axes>"
      ]
     },
     "metadata": {},
     "output_type": "display_data"
    }
   ],
   "source": [
    "# Using the most active station id\n",
    "# Query the last 12 months of temperature observation data for this station and plot the results as a histogram\n",
    "temps = session.query(measurement.date, measurement.tobs).filter(measurement.date >= date).filter(measurement.station==most_active_station).all()\n",
    "\n",
    "# Convert to dictionary\n",
    "temps_rows = [{'Date': row[0], \"Temperature\": row[1]} for row in temps]\n",
    "\n",
    "# Store this data in a pandas dataframe\n",
    "temps_df = pd.DataFrame(temps_rows).set_index('Date')\n",
    "\n",
    "# Plot the histogram\n",
    "temps_df.plot.hist()\n"
   ]
  },
  {
   "cell_type": "markdown",
   "metadata": {},
   "source": [
    "# Close session"
   ]
  },
  {
   "cell_type": "code",
   "execution_count": 142,
   "metadata": {},
   "outputs": [],
   "source": [
    "# Close Session\n",
    "session.close()"
   ]
  },
  {
   "cell_type": "code",
   "execution_count": null,
   "metadata": {},
   "outputs": [],
   "source": []
  }
 ],
 "metadata": {
  "anaconda-cloud": {},
  "kernel_info": {
   "name": "python3"
  },
  "kernelspec": {
   "display_name": "Python 3.9.13 ('base')",
   "language": "python",
   "name": "python3"
  },
  "language_info": {
   "codemirror_mode": {
    "name": "ipython",
    "version": 3
   },
   "file_extension": ".py",
   "mimetype": "text/x-python",
   "name": "python",
   "nbconvert_exporter": "python",
   "pygments_lexer": "ipython3",
   "version": "3.9.13"
  },
  "nteract": {
   "version": "0.12.3"
  },
  "varInspector": {
   "cols": {
    "lenName": 16,
    "lenType": 16,
    "lenVar": 40
   },
   "kernels_config": {
    "python": {
     "delete_cmd_postfix": "",
     "delete_cmd_prefix": "del ",
     "library": "var_list.py",
     "varRefreshCmd": "print(var_dic_list())"
    },
    "r": {
     "delete_cmd_postfix": ") ",
     "delete_cmd_prefix": "rm(",
     "library": "var_list.r",
     "varRefreshCmd": "cat(var_dic_list()) "
    }
   },
   "types_to_exclude": [
    "module",
    "function",
    "builtin_function_or_method",
    "instance",
    "_Feature"
   ],
   "window_display": false
  },
  "vscode": {
   "interpreter": {
    "hash": "294a0b9bfc79ce88e29f56e11670a78bb3a231581d3d3954ad0b1fa1a01a617d"
   }
  }
 },
 "nbformat": 4,
 "nbformat_minor": 2
}
